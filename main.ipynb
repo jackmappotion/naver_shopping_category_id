{
 "cells": [
  {
   "cell_type": "code",
   "execution_count": 8,
   "metadata": {},
   "outputs": [],
   "source": [
    "import pandas as pd"
   ]
  },
  {
   "cell_type": "code",
   "execution_count": 9,
   "metadata": {},
   "outputs": [],
   "source": [
    "raw_df = pd.read_csv(\"./data/raw_data/naver_catid.csv\", sep=\"|\", header=None)"
   ]
  },
  {
   "cell_type": "code",
   "execution_count": 10,
   "metadata": {},
   "outputs": [
    {
     "data": {
      "text/html": [
       "<div>\n",
       "<style scoped>\n",
       "    .dataframe tbody tr th:only-of-type {\n",
       "        vertical-align: middle;\n",
       "    }\n",
       "\n",
       "    .dataframe tbody tr th {\n",
       "        vertical-align: top;\n",
       "    }\n",
       "\n",
       "    .dataframe thead th {\n",
       "        text-align: right;\n",
       "    }\n",
       "</style>\n",
       "<table border=\"1\" class=\"dataframe\">\n",
       "  <thead>\n",
       "    <tr style=\"text-align: right;\">\n",
       "      <th></th>\n",
       "      <th>0</th>\n",
       "      <th>1</th>\n",
       "    </tr>\n",
       "  </thead>\n",
       "  <tbody>\n",
       "    <tr>\n",
       "      <th>1616</th>\n",
       "      <td>50003382</td>\n",
       "      <td>생활/건강&gt;공구&gt;에어공구&gt;에어타카</td>\n",
       "    </tr>\n",
       "    <tr>\n",
       "      <th>4754</th>\n",
       "      <td>50000394</td>\n",
       "      <td>화장품/미용&gt;색조메이크업&gt;립틴트</td>\n",
       "    </tr>\n",
       "    <tr>\n",
       "      <th>3379</th>\n",
       "      <td>50002451</td>\n",
       "      <td>식품&gt;농산물&gt;건과류&gt;건바나나</td>\n",
       "    </tr>\n",
       "    <tr>\n",
       "      <th>2983</th>\n",
       "      <td>50003056</td>\n",
       "      <td>스포츠/레저&gt;수영&gt;여성수영복&gt;비키니</td>\n",
       "    </tr>\n",
       "    <tr>\n",
       "      <th>1651</th>\n",
       "      <td>50003405</td>\n",
       "      <td>생활/건강&gt;공구&gt;전동공구&gt;드릴세트</td>\n",
       "    </tr>\n",
       "  </tbody>\n",
       "</table>\n",
       "</div>"
      ],
      "text/plain": [
       "             0                    1\n",
       "1616  50003382   생활/건강>공구>에어공구>에어타카\n",
       "4754  50000394    화장품/미용>색조메이크업>립틴트\n",
       "3379  50002451      식품>농산물>건과류>건바나나\n",
       "2983  50003056  스포츠/레저>수영>여성수영복>비키니\n",
       "1651  50003405   생활/건강>공구>전동공구>드릴세트"
      ]
     },
     "execution_count": 10,
     "metadata": {},
     "output_type": "execute_result"
    }
   ],
   "source": [
    "raw_df.sample(5)"
   ]
  },
  {
   "cell_type": "code",
   "execution_count": 11,
   "metadata": {},
   "outputs": [
    {
     "data": {
      "text/html": [
       "<div>\n",
       "<style scoped>\n",
       "    .dataframe tbody tr th:only-of-type {\n",
       "        vertical-align: middle;\n",
       "    }\n",
       "\n",
       "    .dataframe tbody tr th {\n",
       "        vertical-align: top;\n",
       "    }\n",
       "\n",
       "    .dataframe thead th {\n",
       "        text-align: right;\n",
       "    }\n",
       "</style>\n",
       "<table border=\"1\" class=\"dataframe\">\n",
       "  <thead>\n",
       "    <tr style=\"text-align: right;\">\n",
       "      <th></th>\n",
       "      <th>cat_id</th>\n",
       "      <th>cat_nm_0</th>\n",
       "      <th>cat_nm_1</th>\n",
       "      <th>cat_nm_2</th>\n",
       "      <th>cat_nm_3</th>\n",
       "    </tr>\n",
       "  </thead>\n",
       "  <tbody>\n",
       "    <tr>\n",
       "      <th>0</th>\n",
       "      <td>50003307</td>\n",
       "      <td>가구/인테리어</td>\n",
       "      <td>DIY자재/용품</td>\n",
       "      <td>가구부속품</td>\n",
       "      <td>가구다리</td>\n",
       "    </tr>\n",
       "    <tr>\n",
       "      <th>1</th>\n",
       "      <td>50003308</td>\n",
       "      <td>가구/인테리어</td>\n",
       "      <td>DIY자재/용품</td>\n",
       "      <td>가구부속품</td>\n",
       "      <td>가구바퀴</td>\n",
       "    </tr>\n",
       "    <tr>\n",
       "      <th>2</th>\n",
       "      <td>50003309</td>\n",
       "      <td>가구/인테리어</td>\n",
       "      <td>DIY자재/용품</td>\n",
       "      <td>가구부속품</td>\n",
       "      <td>경첩/꺽쇠/자석철물류</td>\n",
       "    </tr>\n",
       "    <tr>\n",
       "      <th>3</th>\n",
       "      <td>50003314</td>\n",
       "      <td>가구/인테리어</td>\n",
       "      <td>DIY자재/용품</td>\n",
       "      <td>가구부속품</td>\n",
       "      <td>기타가구부속품</td>\n",
       "    </tr>\n",
       "    <tr>\n",
       "      <th>4</th>\n",
       "      <td>50003310</td>\n",
       "      <td>가구/인테리어</td>\n",
       "      <td>DIY자재/용품</td>\n",
       "      <td>가구부속품</td>\n",
       "      <td>나사/못</td>\n",
       "    </tr>\n",
       "    <tr>\n",
       "      <th>...</th>\n",
       "      <td>...</td>\n",
       "      <td>...</td>\n",
       "      <td>...</td>\n",
       "      <td>...</td>\n",
       "      <td>...</td>\n",
       "    </tr>\n",
       "    <tr>\n",
       "      <th>4813</th>\n",
       "      <td>50000299</td>\n",
       "      <td>화장품/미용</td>\n",
       "      <td>헤어케어</td>\n",
       "      <td>트리트먼트</td>\n",
       "      <td>NaN</td>\n",
       "    </tr>\n",
       "    <tr>\n",
       "      <th>4814</th>\n",
       "      <td>50000302</td>\n",
       "      <td>화장품/미용</td>\n",
       "      <td>헤어케어</td>\n",
       "      <td>헤어미스트</td>\n",
       "      <td>NaN</td>\n",
       "    </tr>\n",
       "    <tr>\n",
       "      <th>4815</th>\n",
       "      <td>50000300</td>\n",
       "      <td>화장품/미용</td>\n",
       "      <td>헤어케어</td>\n",
       "      <td>헤어에센스</td>\n",
       "      <td>NaN</td>\n",
       "    </tr>\n",
       "    <tr>\n",
       "      <th>4816</th>\n",
       "      <td>50000305</td>\n",
       "      <td>화장품/미용</td>\n",
       "      <td>헤어케어</td>\n",
       "      <td>헤어케어세트</td>\n",
       "      <td>NaN</td>\n",
       "    </tr>\n",
       "    <tr>\n",
       "      <th>4817</th>\n",
       "      <td>50000301</td>\n",
       "      <td>화장품/미용</td>\n",
       "      <td>헤어케어</td>\n",
       "      <td>헤어팩</td>\n",
       "      <td>NaN</td>\n",
       "    </tr>\n",
       "  </tbody>\n",
       "</table>\n",
       "<p>4818 rows × 5 columns</p>\n",
       "</div>"
      ],
      "text/plain": [
       "        cat_id cat_nm_0  cat_nm_1 cat_nm_2     cat_nm_3\n",
       "0     50003307  가구/인테리어  DIY자재/용품    가구부속품         가구다리\n",
       "1     50003308  가구/인테리어  DIY자재/용품    가구부속품         가구바퀴\n",
       "2     50003309  가구/인테리어  DIY자재/용품    가구부속품  경첩/꺽쇠/자석철물류\n",
       "3     50003314  가구/인테리어  DIY자재/용품    가구부속품      기타가구부속품\n",
       "4     50003310  가구/인테리어  DIY자재/용품    가구부속품         나사/못\n",
       "...        ...      ...       ...      ...          ...\n",
       "4813  50000299   화장품/미용      헤어케어    트리트먼트          NaN\n",
       "4814  50000302   화장품/미용      헤어케어    헤어미스트          NaN\n",
       "4815  50000300   화장품/미용      헤어케어    헤어에센스          NaN\n",
       "4816  50000305   화장품/미용      헤어케어   헤어케어세트          NaN\n",
       "4817  50000301   화장품/미용      헤어케어      헤어팩          NaN\n",
       "\n",
       "[4818 rows x 5 columns]"
      ]
     },
     "execution_count": 11,
     "metadata": {},
     "output_type": "execute_result"
    }
   ],
   "source": [
    "df = raw_df.copy()\n",
    "\n",
    "df.columns = [\"cat_id\", \"cat_nm\"]\n",
    "\n",
    "category_df = df[\"cat_nm\"].apply(lambda x: x.split(\">\")).apply(pd.Series)\n",
    "category_df.columns = [f\"cat_nm_{col}\" for col in category_df.columns]\n",
    "\n",
    "main_df = pd.concat([df[\"cat_id\"], category_df], axis=1)\n",
    "main_df"
   ]
  },
  {
   "cell_type": "code",
   "execution_count": 12,
   "metadata": {},
   "outputs": [
    {
     "data": {
      "text/plain": [
       "cat_nm_0\n",
       "생활/건강      1228\n",
       "디지털/가전      681\n",
       "식품          548\n",
       "도서          498\n",
       "스포츠/레저      480\n",
       "출산/육아       448\n",
       "가구/인테리어     354\n",
       "패션잡화        264\n",
       "화장품/미용      157\n",
       "여가/생활편의      92\n",
       "패션의류         68\n",
       "Name: count, dtype: int64"
      ]
     },
     "execution_count": 12,
     "metadata": {},
     "output_type": "execute_result"
    }
   ],
   "source": [
    "main_df['cat_nm_0'].value_counts()"
   ]
  },
  {
   "cell_type": "code",
   "execution_count": 13,
   "metadata": {},
   "outputs": [],
   "source": [
    "main_df.to_csv(\"./data/preproc_data/naver_category.csv\")"
   ]
  }
 ],
 "metadata": {
  "kernelspec": {
   "display_name": "quant_trading",
   "language": "python",
   "name": "python3"
  },
  "language_info": {
   "codemirror_mode": {
    "name": "ipython",
    "version": 3
   },
   "file_extension": ".py",
   "mimetype": "text/x-python",
   "name": "python",
   "nbconvert_exporter": "python",
   "pygments_lexer": "ipython3",
   "version": "3.10.13"
  }
 },
 "nbformat": 4,
 "nbformat_minor": 2
}
